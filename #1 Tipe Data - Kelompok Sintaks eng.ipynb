{
  "nbformat": 4,
  "nbformat_minor": 0,
  "metadata": {
    "colab": {
      "name": "Tugas 1 Kelompok.ipynb",
      "provenance": [],
      "collapsed_sections": []
    },
    "kernelspec": {
      "name": "python3",
      "display_name": "Python 3"
    },
    "language_info": {
      "name": "python"
    }
  },
  "cells": [
    {
      "cell_type": "markdown",
      "source": [
        "TUGAS KELOMPOK SINTAKS\n",
        "1. Hasballah Askar\n",
        "2. Galang Setia Nugroho\n",
        "3. Khalishah Fiddina\n",
        "4. Tifani Amalina\n",
        "5. Muhammad Ilham Hakiqi"
      ],
      "metadata": {
        "id": "xY0ERiPPJx0l"
      }
    },
    {
      "cell_type": "markdown",
      "source": [
        "**PYTHON DATA TYPES**"
      ],
      "metadata": {
        "id": "fUrJuZRRK_tl"
      }
    },
    {
      "cell_type": "markdown",
      "source": [
        "1. Numeric Types\n",
        " \n",
        "In the Python programming language, there are 3 types of numeric data, namely:\n",
        "\n",
        "* Integer\n",
        "* Float\n",
        "* Complex"
      ],
      "metadata": {
        "id": "7co1KC_u-Ylu"
      }
    },
    {
      "cell_type": "markdown",
      "source": [
        "* Integers or ints are positive or negative whole numbers with no decimal point.\n",
        "\n",
        "For example as follows:"
      ],
      "metadata": {
        "id": "Ngjq7ireBqm1"
      }
    },
    {
      "cell_type": "code",
      "execution_count": null,
      "metadata": {
        "id": "E2bFzZeR-Gt3"
      },
      "outputs": [],
      "source": [
        "#Tipe Data Integer\n",
        "x = 100"
      ]
    },
    {
      "cell_type": "code",
      "source": [
        "print(type(x))"
      ],
      "metadata": {
        "colab": {
          "base_uri": "https://localhost:8080/"
        },
        "id": "pdO7wJpk-ko_",
        "outputId": "83367d44-c8c1-40b8-ea10-774ccb298b98"
      },
      "execution_count": null,
      "outputs": [
        {
          "output_type": "stream",
          "name": "stdout",
          "text": [
            "<class 'int'>\n"
          ]
        }
      ]
    },
    {
      "cell_type": "markdown",
      "source": [
        "* Float represent real numbers and are written with a decimal point dividing the integer and fractional parts. \n",
        "\n",
        "For example as follows:"
      ],
      "metadata": {
        "id": "UvFPco2D-IBg"
      }
    },
    {
      "cell_type": "code",
      "source": [
        "#Tipe Data Float\n",
        "y = 12.53"
      ],
      "metadata": {
        "id": "Z-kyh3xUDPKX"
      },
      "execution_count": null,
      "outputs": []
    },
    {
      "cell_type": "code",
      "source": [
        "print(type(y))"
      ],
      "metadata": {
        "colab": {
          "base_uri": "https://localhost:8080/"
        },
        "id": "Cj8hwDxhDiLC",
        "outputId": "0bb285d6-4235-4c8e-adaf-a3f84716e4f0"
      },
      "execution_count": null,
      "outputs": [
        {
          "output_type": "stream",
          "name": "stdout",
          "text": [
            "<class 'float'>\n"
          ]
        }
      ]
    },
    {
      "cell_type": "markdown",
      "source": [
        "* complex (complex numbers) are of the form a + bJ, where a and b are floats and J (or j) represents the square root of -1 (which is an imaginary number). The real part of the number is a, and the imaginary part is b.\n",
        "\n",
        "For example as follows:"
      ],
      "metadata": {
        "id": "o7sKGjDEDmpP"
      }
    },
    {
      "cell_type": "code",
      "source": [
        "z = 3+2j"
      ],
      "metadata": {
        "id": "XvKNTxznDwsm"
      },
      "execution_count": null,
      "outputs": []
    },
    {
      "cell_type": "code",
      "source": [
        "print(type(z))"
      ],
      "metadata": {
        "colab": {
          "base_uri": "https://localhost:8080/"
        },
        "id": "65dRcy-DD3ep",
        "outputId": "d0d10a45-e1a5-4b8c-f290-8037487e83c5"
      },
      "execution_count": null,
      "outputs": [
        {
          "output_type": "stream",
          "name": "stdout",
          "text": [
            "<class 'complex'>\n"
          ]
        }
      ]
    },
    {
      "cell_type": "markdown",
      "source": [
        "2. Tipe Data String\n",
        "\n",
        "String is a sequence of Unicode characters. Declared in single or double-quotes. In Python, the use of single or double quotes is considered the same. Strings of more than 1 line can be marked with 3 single quotes ''' or double \"\"\".\n",
        "\n",
        "For example as follows:"
      ],
      "metadata": {
        "id": "eyUtVFIDEkrp"
      }
    },
    {
      "cell_type": "code",
      "source": [
        "Nama_Kelompok = \"Sintaks\""
      ],
      "metadata": {
        "id": "2IptmL6WGKin"
      },
      "execution_count": null,
      "outputs": []
    },
    {
      "cell_type": "code",
      "source": [
        "print(type(Nama_Kelompok))"
      ],
      "metadata": {
        "colab": {
          "base_uri": "https://localhost:8080/"
        },
        "id": "3dtdBpvQGa4K",
        "outputId": "707e10f7-307b-4f9e-c76b-80e8f08a74db"
      },
      "execution_count": null,
      "outputs": [
        {
          "output_type": "stream",
          "name": "stdout",
          "text": [
            "<class 'str'>\n"
          ]
        }
      ]
    },
    {
      "cell_type": "code",
      "source": [
        "kelas = \"\"\"Data Science Track\n",
        "Kelas B\n",
        "MyEduSolve\"\"\""
      ],
      "metadata": {
        "id": "E8rJK5BQICss"
      },
      "execution_count": null,
      "outputs": []
    },
    {
      "cell_type": "code",
      "source": [
        "print(kelas)"
      ],
      "metadata": {
        "colab": {
          "base_uri": "https://localhost:8080/"
        },
        "id": "P0oprBMSI_p0",
        "outputId": "cf185b38-7bc2-4fca-d424-68b228695153"
      },
      "execution_count": null,
      "outputs": [
        {
          "output_type": "stream",
          "name": "stdout",
          "text": [
            "Data Science Track\n",
            "Kelas B\n",
            "MyEduSolve\n"
          ]
        }
      ]
    },
    {
      "cell_type": "code",
      "source": [
        "print(type(kelas))"
      ],
      "metadata": {
        "colab": {
          "base_uri": "https://localhost:8080/"
        },
        "id": "IuH2KYmpJHWJ",
        "outputId": "4853998e-dee7-42e2-e916-0353abc464ec"
      },
      "execution_count": null,
      "outputs": [
        {
          "output_type": "stream",
          "name": "stdout",
          "text": [
            "<class 'str'>\n"
          ]
        }
      ]
    }
  ]
}